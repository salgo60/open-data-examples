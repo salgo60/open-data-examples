{
 "cells": [
  {
   "cell_type": "markdown",
   "metadata": {},
   "source": [
    "## Uppsalakyrkogård kulturpersoner\n",
    "version 0.1\n",
    "* [This Notebook](https://github.com/salgo60/open-data-examples/blob/master/Uppsalakyrkogård%20kulturpersoner.ipynb)\n",
    "* [Map](https://kulturpersoner.uppsalakyrkogardar.se/karta/) / [Lista](https://kulturpersoner.uppsalakyrkogardar.se/galleri/)\n",
    "* [GIST](https://gist.github.com/salgo60/34e9a6bfc223687951ad827bf84b330d)\n",
    "* [SPARQL](https://w.wiki/XkL)"
   ]
  },
  {
   "cell_type": "markdown",
   "metadata": {},
   "source": [
    "\n",
    "#### Other sources we sync\n",
    "* [Kulturpersoner Uppsalakyrkogård](https://github.com/salgo60/open-data-examples/blob/master/Uppsalakyrkogård%20kulturpersoner.ipynb)\n",
    "* [Litteraturbanken](https://github.com/salgo60/open-data-examples/blob/master/Litteraturbanken%20Author.ipynb)\n",
    "* [Nobelprize.org](https://github.com/salgo60/open-data-examples/blob/master/Nobel%20API.ipynb)\n",
    "* [SBL](https://github.com/salgo60/open-data-examples/blob/master/SBL.ipynb)\n",
    "* [SKBL](https://github.com/salgo60/open-data-examples/blob/master/Svenskt%20Kvinnobiografiskt%20lexikon%20part%203.ipynb)  \n",
    "* [Svenska Akademien](https://github.com/salgo60/open-data-examples/blob/master/Svenska%20Akademien.ipynb)  \n"
   ]
  },
  {
   "cell_type": "code",
   "execution_count": 1,
   "metadata": {},
   "outputs": [
    {
     "name": "stdout",
     "output_type": "stream",
     "text": [
      "Last run:  2022-12-31 09:43:43.495118\n"
     ]
    }
   ],
   "source": [
    "from datetime import datetime\n",
    "start_time = datetime.now()\n",
    "print(\"Last run: \", start_time)"
   ]
  },
  {
   "cell_type": "code",
   "execution_count": 2,
   "metadata": {},
   "outputs": [],
   "source": [
    "#https://kulturpersoner.uppsalakyrkogardar.se/galleri/\n",
    "import requests\n",
    "import urllib.request\n",
    "import pandas as pd\n",
    "import time\n",
    "from bs4 import BeautifulSoup\n",
    "def cleanupstring(s):\n",
    "    out_s = s\n",
    "    while '  ' in out_s:\n",
    "        out_s = out_s.strip().replace('  ', ' ')\n",
    "    return out_s, len(s)-len(out_s)\n",
    "\n",
    "dfUppsala = pd.DataFrame(columns=[\"url\",\"name\"])\n",
    "\n",
    "urls = [\n",
    "    'https://kulturpersoner.uppsalakyrkogardar.se/galleri/']\n",
    "for url in urls:\n",
    "    response = requests.get(url)\n",
    "    soup = BeautifulSoup(response.text, \"html.parser\")\n",
    "    soup.findAll('a')\n",
    "    one_a_tag = soup.findAll('a')[0]\n",
    "    time.sleep(1)\n",
    "    for i in range(1, len(soup.findAll('a'))):\n",
    "        one_a_tag = soup.findAll('a')[i]\n",
    "        one_a_tag_href = one_a_tag['href']\n",
    "        if   \"karta\" not in one_a_tag_href \\\n",
    "                and not \"Search\" in one_a_tag.text \\\n",
    "                and not \"Start\" in one_a_tag.text \\\n",
    "                and not \"Vandringar\" in one_a_tag.text \\\n",
    "                and not \"Guidad\" in one_a_tag.text \\\n",
    "                and not \"galleri\" in one_a_tag_href \\\n",
    "                and not \"om-oss\"  in one_a_tag_href \\\n",
    "                and not \"vandringar\"  in one_a_tag_href \\\n",
    "                and not \"kyrkogardsexpedition\"  in one_a_tag_href:\n",
    "            name = one_a_tag.text.replace(\"https://kulturpersoner.uppsalakyrkogardar.se/\",\"\").replace(\"-\",\" \").replace(\"%C3%84\",\"Ä\")\n",
    "            #print(name,  \"-\", type(one_a_tag_href),one_a_tag_href)\n",
    "            #dfUppsala = dfUppsalaList.append({'name': name,'url':one_a_tag_href})\n",
    "            dfUppsala = pd.concat([dfUppsala, pd.DataFrame.from_records([{ 'name': name, 'url':one_a_tag_href }])], ignore_index=True)\n",
    "  \n"
   ]
  },
  {
   "cell_type": "code",
   "execution_count": 3,
   "metadata": {},
   "outputs": [
    {
     "name": "stdout",
     "output_type": "stream",
     "text": [
      "<class 'pandas.core.frame.DataFrame'>\n",
      "RangeIndex: 131 entries, 0 to 130\n",
      "Data columns (total 2 columns):\n",
      " #   Column  Non-Null Count  Dtype \n",
      "---  ------  --------------  ----- \n",
      " 0   url     131 non-null    object\n",
      " 1   name    131 non-null    object\n",
      "dtypes: object(2)\n",
      "memory usage: 2.2+ KB\n"
     ]
    }
   ],
   "source": [
    "dfUppsala.info()\n"
   ]
  },
  {
   "cell_type": "code",
   "execution_count": 4,
   "metadata": {},
   "outputs": [
    {
     "data": {
      "text/plain": [
       "'Uppsalakyrkogård_kulturpersoner.csv'"
      ]
     },
     "execution_count": 4,
     "metadata": {},
     "output_type": "execute_result"
    }
   ],
   "source": [
    "\"Uppsalakyrkogård_kulturpersoner.csv\""
   ]
  },
  {
   "cell_type": "code",
   "execution_count": 5,
   "metadata": {},
   "outputs": [],
   "source": [
    "import json,sys\n",
    "import pandas as pd \n",
    "from SPARQLWrapper import SPARQLWrapper, JSON\n",
    "endpoint_url = \"https://query.wikidata.org/\"\n",
    "\n",
    "def get_sparql_dataframe(endpoint_url, query):\n",
    "    \"\"\"\n",
    "    Helper function to convert SPARQL results into a Pandas data frame.\n",
    "    \"\"\"\n",
    "    user_agent = \"salgo60/%s.%s\" % (sys.version_info[0], sys.version_info[1])\n",
    " \n",
    "    sparql = SPARQLWrapper(endpoint_url, agent=user_agent)\n",
    "    sparql.setQuery(query)\n",
    "    sparql.setReturnFormat(JSON)\n",
    "    result = sparql.query()\n",
    "\n",
    "    processed_results = json.load(result.response)\n",
    "    cols = processed_results['head']['vars']\n",
    "\n",
    "    out = []\n",
    "    for row in processed_results['results']['bindings']:\n",
    "        item = []\n",
    "        for c in cols:\n",
    "            item.append(row.get(c, {}).get('value'))\n",
    "        out.append(item)\n",
    "\n",
    "    return pd.DataFrame(out, columns=cols)"
   ]
  },
  {
   "cell_type": "code",
   "execution_count": 6,
   "metadata": {},
   "outputs": [
    {
     "name": "stdout",
     "output_type": "stream",
     "text": [
      "Ended:  2022-12-31 09:43:45.370485\n",
      "Time elapsed (hh:mm:ss.ms) 0:00:01.875605\n"
     ]
    }
   ],
   "source": [
    "end = datetime.now()\n",
    "print(\"Ended: \", end) \n",
    "print('Time elapsed (hh:mm:ss.ms) {}'.format(datetime.now() - start_time))"
   ]
  },
  {
   "cell_type": "code",
   "execution_count": null,
   "metadata": {},
   "outputs": [],
   "source": []
  }
 ],
 "metadata": {
  "kernelspec": {
   "display_name": "Python 3",
   "language": "python",
   "name": "python3"
  },
  "language_info": {
   "codemirror_mode": {
    "name": "ipython",
    "version": 3
   },
   "file_extension": ".py",
   "mimetype": "text/x-python",
   "name": "python",
   "nbconvert_exporter": "python",
   "pygments_lexer": "ipython3",
   "version": "3.9.13"
  }
 },
 "nbformat": 4,
 "nbformat_minor": 4
}
