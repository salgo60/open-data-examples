{
 "cells": [
  {
   "cell_type": "markdown",
   "metadata": {},
   "source": [
    "## Utegym Stockholm \n",
    "* Denna [GITHUB sida](https://github.com/salgo60/open-data-examples/blob/master/Utegym%20Stockholm%20.ipynb) \n",
    "* ÖDIS [Utegym Stockholm](https://smartstad.stockholm/2020/05/08/projekt-odis-efterfragar-oppna-data-om-utegym/) \n",
    "* Utegym i Stockholms stad dataset [cf2effb7-8e1e-41ab-90b4-d09fd383f0fd](https://storsthlm.dataplatform.se/#/data/cf2effb7-8e1e-41ab-90b4-d09fd383f0fd)\n",
    "* Blog [Utegym övningar](http://minancestry.blogspot.com/2020/06/utetraning.html)\n",
    "* Wikidata stödjer [300 språk](https://www.wikidata.org/wiki/Help:Wikimedia_language_codes/lists/all) --> vi kan ha namn på utegymmen på de vanligaste språken i Sverige: Arabiska, Somaliska, Engelska, Finska, Sydsamiska, Lulesamiska....\n",
    "* Open Street map [Sv:Tag:leisure=fitness_station](https://wiki.openstreetmap.org/wiki/Sv:Tag:leisure%3Dfitness_station#Exempel)"
   ]
  },
  {
   "cell_type": "markdown",
   "metadata": {},
   "source": [
    "### TODO\n",
    "1. Ladda in i [Wikidata](https://www.youtube.com/watch?v=m_9_23jXPoE&t=6s)\n",
    "  1. Använder extrakt enligt nedan och sedan kopplar ihop det med Wikidata mha verktyget [Open Refine](https://openrefine.org/)\n",
    "    1. exempel Wikidata [Q96105887](https://www.wikidata.org/wiki/Q96105887?uselang=sv) samma som Open Street Map [way/813642780](https://www.openstreetmap.org/way/813642780) som har olika stationer ex [way/813660758](https://www.openstreetmap.org/way/813660758) / [way/813660760](https://www.openstreetmap.org/way/813660760) samma som [commons.wikimedia.org Category:Akalla_Gårds_utegym](https://commons.wikimedia.org/wiki/Category:Akalla_G%C3%A5rds_utegym)\n",
    "  1. Koppla bilder som finns till Wikidata objekten se [Category:Outdoor_gyms_in_Sweden](https://commons.wikimedia.org/wiki/Category:Outdoor_gyms_in_Sweden)\n",
    "1. Lägga till utegym platser i [Open Street Map](https://www.youtube.com/watch?v=LRNl5tr2KEM)\n",
    "  1. fundera över om olika övningsverktyg även markeras på kartan \n",
    "    1. se [Tag:leisure=fitness station](https://wiki.openstreetmap.org/wiki/Tag:leisure=fitness%20station?uselang=en)\n",
    "    1. [Outdoor gym how to tag them](https://help.openstreetmap.org/questions/38259/outdoor-gym-how-to-tag-it?sort=votes)\n",
    "  1. idag finns i Open Street Map 26 284 objekt markerade som \"fitness station\" se [karta](https://taginfo.openstreetmap.org/tags/?key=leisure&value=fitness_station#map)\n",
    "    1. Overpass Turbo fråga http://overpass-turbo.eu/s/UOk --> visar alla objekt med \"leisure=fitness_station\" \n",
    "  1. mappa vad som finns i Öppna data till Open StreetMap taggar\n",
    "    1. Belysning = [Key:lit](https://wiki.openstreetmap.org/wiki/Key:lit)\n",
    "    1. [fee=no](https://wiki.openstreetmap.org/wiki/Key:fee)\n",
    "    1. Rullstolsanpassat = [Key:wheelchair](https://wiki.openstreetmap.org/wiki/Key:wheelchair)\n",
    "    1. Sit ups = [fitness_station=sit-up](https://wiki.openstreetmap.org/wiki/Tag:leisure%3Dfitness_station#Fitness_equipment)\n",
    "    1. Armhav = [fitness_station=push-up](https://wiki.openstreetmap.org/wiki/Tag:leisure%3Dfitness_station#Fitness_equipment)\n",
    "    1. Rygglyft = [fitness_station=hyperextension](https://wiki.openstreetmap.org/wiki/Tag:leisure%3Dfitness_station#Fitness_equipment)\n",
    "    1. Parallella stangar = [fitness_station=parallel_bars](https://wiki.openstreetmap.org/wiki/Tag:leisure%3Dfitness_station#Fitness_equipment)\n",
    "    1. Armgang = [fitness_station=horizontal_ladder](https://wiki.openstreetmap.org/wiki/Tag:leisure%3Dfitness_station#Fitness_equipment)\n",
    "    1. Balansbom = ????\n",
    "    1. Marklyft = [fitness_station=log_lifting](https://wiki.openstreetmap.org/wiki/Tag:leisure%3Dfitness_station#Fitness_equipment) ?\n",
    "    1. Trappsteg = ?!?!?\n",
    "    1. Ribbstolar = ?!?!?\n",
    "    1. Benlyft = [fitness_station=log_lifting](https://wiki.openstreetmap.org/wiki/Tag:leisure%3Dfitness_station#Fitness_equipment) ?\n",
    "    1. Rodd = ??\n",
    "    1. Bankpress = [fitness_station=log_lifting](https://wiki.openstreetmap.org/wiki/Tag:leisure%3Dfitness_station#Fitness_equipment) ?\n",
    "    1. Knaboj = [fitness_station=log_lifting](https://wiki.openstreetmap.org/wiki/Tag:leisure%3Dfitness_station#Fitness_equipment) ?\n",
    "    1. Axelpress = [fitness_station=log_lifting](https://wiki.openstreetmap.org/wiki/Tag:leisure%3Dfitness_station#Fitness_equipment) ?\n",
    "    1. saknas chins? eller är det armhäv = [fitness_station=horizontal_bar](https://wiki.openstreetmap.org/wiki/Tag:leisure%3Dfitness_station#Fitness_equipment)\n",
    "1. Se om bilder från Stockholms stad är [CC-0](https://creativecommons.org/share-your-work/public-domain/cc0/) \"No rights reserved se [tweet](https://twitter.com/salgo60/status/1269548094682796038?s=20)\n",
    "1. Använda verktyget [Tabernacle](https://tabernacle.toolforge.org/#/) för att ange namn på Stockholms utegym på flera språk ex. de vanligaste språken i Stockholms kommun \n",
    "  1. [Nationella minoriteter](https://start.stockholm/om-stockholms-stad/sa-arbetar-staden/nationella-minoriteter/) / [Wikipedia Minoritetsspråk i Sverige](https://sv.wikipedia.org/wiki/Minoritetsspr%C3%A5k_i_Sverige) --> språk  \n",
    "     1. jiddisch --> språkkod [yi](https://sv.wikipedia.org/wiki/Jiddisch)  \n",
    "     1. romani chib --> språkkod [rom](https://sv.wikipedia.org/wiki/Romani)\n",
    "     1. samiska --> sydsamiska språkkod [sma](https://sv.wikipedia.org/wiki/Sydsamiska) / luleåsamiska språkkod [smj](https://sv.wikipedia.org/wiki/Lulesamiska)\n",
    "     1. finska --> språkkod [fi](https://sv.wikipedia.org/wiki/Finska)\n",
    "     1. meänkieli --> språkkod [fit](https://sv.wikipedia.org/wiki/Me%C3%A4nkieli)\n",
    "  1. ISOF [Språken i Sverige](https://www.isof.se/om-oss/for-dig-i-skolan/sprak-for-dig-i-skolan/spraken-i-sverige.html) --> \n",
    "     1. finska --> språkkod [fi](https://sv.wikipedia.org/wiki/Finska)\n",
    "     1. bosniska-kroatiska-serbiska --> Bosniska språkkod [bs](https://sv.wikipedia.org/wiki/Bosniska) / Kroatiska språkkod [hr](https://sv.wikipedia.org/wiki/Kroatiska) /  Serbiska språkkod [sr](https://sv.wikipedia.org/wiki/Serbiska)\n",
    "     1. arabiska --> språkkod [ar](https://sv.wikipedia.org/wiki/Arabiska)\n",
    "     1. kurdiska --> språkkod [ku](https://sv.wikipedia.org/wiki/Kurdiska)\n",
    "     1. spanska --> språkkod [es](https://sv.wikipedia.org/wiki/Spanska)\n",
    "     1. persiska --> språkkod [fa](https://sv.wikipedia.org/wiki/Persiska)"
   ]
  },
  {
   "cell_type": "markdown",
   "metadata": {},
   "source": [
    "## Issues \n",
    "1. [Text](https://storsthlm.dataplatform.se/#/data/cf2effb7-8e1e-41ab-90b4-d09fd383f0fd) \"Datamängden är temporär för projekt ÖDIS.\" vad innebär det? kommer den att försvinna?!?!? \n",
    "  1. Bättre vore att ha datum då den upphörde och ha versionshantering av datat jmf \n",
    "     1. Wikidata versioner av objektet för [Akalla Gårds utegym Q96105887](https://www.wikidata.org/w/index.php?title=Q96105887&action=history) \n",
    "     1. GITHUB versioner för denna [Jupyter Notebook](https://github.com/salgo60/open-data-examples/commits/7144289cde4b6e7d2e556746e2c8bb0e4882315a/Utegym%20Stockholm%20.ipynb)\n",
    "1. Bilder refereras i ett dataset som är [CC-0 (Creative Commons CC Zero)](http://creativecommons.org/publicdomain/zero/1.0/) vad har bilderna för copyright? Öppen data borde försöka ha bilder med tydlig copyright och gärna [\"No Rights Reserved\"](https://creativecommons.org/share-your-work/public-domain/cc0/) --> fråga skickad på [twitter](https://twitter.com/salgo60/status/1269548094682796038?s=20)\n",
    "1. För att kunna referera ett dataset som källa behövs en tydlig identifierare. Idag känns datasettet ha en väldigt otydlig [persistent identifierare](https://en.wikipedia.org/wiki/Persistent_identifier) för datasettet är det [cf2effb7-8e1e-41ab-90b4-d09fd383f0fd](https://storsthlm.dataplatform.se/#/data/cf2effb7-8e1e-41ab-90b4-d09fd383f0fd) ? tittar vi på url:en har vi [resource_id=5e2c496a-3a48-4a85-ace0-e8357cbb7a67&limit=500](https://ckan-storsthlm.dataplatform.se/api/action/datastore_search?resource_id=5e2c496a-3a48-4a85-ace0-e8357cbb7a67&limit=500) datatsettet och versionen bör finnas tydligt med unika namn under '''metadata''' \n",
    "Bra dataset som skall användas måste vara enkla att kommunicera med och följa öppna frågor dvs. det är inte bara att ställa ut en kasse data och hoppas det blir bra \n",
    " 1. jmf [Wikidata har unika issuenummer](https://phabricator.wikimedia.org/tag/wikidata/) för alla frågor och\n",
    " 1. tydlighet när saker går i produktion \n",
    " 1. du har en [publik backlog](https://www.youtube.com/watch?v=502ILHjX9EE) så du förstår prioriteringar och kan planera ditt eget arbete....\n",
    " 1. du kan följa ärendet(personer/projekt och svara/ ställa nya frågor ex. [user salgo60](https://phabricator.wikimedia.org/p/Salgo60/) - jag / [Lydia_Pintscher](https://phabricator.wikimedia.org/p/Lydia_Pintscher/) product manager Wikidata som sitter i Berlin / projekt för editera WD från en klient - [Wikidata-Bridge](https://phabricator.wikimedia.org/project/profile/4074/) / [Change feed Phabricator](https://phabricator.wikimedia.org/feed/query/all/) / [Change feed Wikidata](https://tools.wmflabs.org/wikidata-todo/rcvis.html)\n",
    " 1. du kan pinga personer med en fråga / prenumerera på ändringar \n",
    "1. Skall Öppen data användas för utegym enkelt så behöver den publiceras per arbetsredskap se [Tag:leisure=fitness_station](https://wiki.openstreetmap.org/wiki/Tag:leisure%3Dfitness_station)\n",
    "1. Kvaliten på angivna koordinater i datasettet känns tveksam om den duger till kartor ex. Akalla Gårds bollplan har hos Stockholms stad WGS84 [59.412051 17.915596](https://www.google.com/maps/dir/59.411884,+17.914643/59.4120556,17.9156111/@59.4119299,17.914238,98m/data=!3m1!1e3!4m7!4m6!1m3!2m2!1d17.914643!2d59.411884!1m0!3e2) är 80 meter fel \n",
    "  1. om nu Stockholms stad uppdaterar detta dataset med bättre koordinater\n",
    "     1. hur ser vi det? hur kan vi prenumerera på detta\n",
    "       1. snyggaste mönstret är SPARQL federation se hur WIkidata jmf Nobelpristagare med vad Nobelstiftelsen har och ser avvikelser [länk](https://www.wikidata.org/wiki/User:Salgo60/ListeriaNobelData3) lesson learned är att Wikidata 99% av fallen vet bättre när personer avlider\n",
    "     1. om nu Open Street map / Wikidata förbättrar dessa koordinater hur får vi en \"dataroundtrip\" tillbaka till Stockholmsstad?\n",
    "1. Ingen av utegymmen har \"Rullstolsanpassat\" angivet --> gissar Open Street Map [wheelchair=limited](https://wiki.openstreetmap.org/wiki/Key:wheelchair#wheelchair.3Dlimited) passarbäst \n",
    "1. Persistenta identifierare innebär att man kan peka på specifikt objekt. Om koordinaten för Akalla gymmet är fel hur pekar vi på denna post dvs. dataset \"cf2effb7-8e1e-41ab-90b4-d09fd383f0fd\" post \"0180_Utegym_00002\" fälten \"Koordinat_Lat_(WGS84)\" \"Koordinat_Long_(WGS84)\" skall helst vara maskinläsbart dvs. enkelt kan ett program förstå och helst ha en URL till platsen....\n",
    "  1. jämför Wikidata fält och Wikidata version av \"samma\" objekt \n",
    "    1. hoppar till fält koordinat = P625 https://www.wikidata.org/wiki/Q96105887?uselang=sv#P625 som har 2 värden där det ena markets \"fel\"\n",
    "    2. ser ändringar mellan [version 1201371200 och 1201373921](https://www.wikidata.org/w/index.php?title=Q96105887&type=revision&diff=1201373921&oldid=1201371200) \n",
    "1. \"Senast uppdaterad 20 maj 2020\" anges på [storsthlm.dataplatform.se cf2effb7-8e1e-41ab-90b4-d09fd383f0fd](https://storsthlm.dataplatform.se/#/data/cf2effb7-8e1e-41ab-90b4-d09fd383f0fd) men vad har ändrats?!?!? se ovan om versionshistorik   \n",
    "\n",
    "## Länkar\n",
    "* tankar hur [ett externt data set skall fungera](https://www.wikidata.org/wiki/Wikidata:Property_proposal/ISOF_place#One_way_to_design_a_system_to_be_a_good_external_identifier_for_Wikidata)\n",
    "* tankar om [co-creation hos jobtech](https://forum.jobtechdev.se/t/har-ni-input-till-varens-meetups/263/3)\n",
    "\n",
    "![title](image/cocreation_small.png)\n"
   ]
  },
  {
   "cell_type": "code",
   "execution_count": 1,
   "metadata": {},
   "outputs": [
    {
     "ename": "ConnectionError",
     "evalue": "HTTPSConnectionPool(host='ckan-storsthlm.dataplatform.se', port=443): Max retries exceeded with url: /api/action/datastore_search?resource_id=5e2c496a-3a48-4a85-ace0-e8357cbb7a67&limit=500 (Caused by NewConnectionError('<urllib3.connection.HTTPSConnection object at 0x7f9c5e5cb100>: Failed to establish a new connection: [Errno 8] nodename nor servname provided, or not known'))",
     "output_type": "error",
     "traceback": [
      "\u001b[0;31m---------------------------------------------------------------------------\u001b[0m",
      "\u001b[0;31mgaierror\u001b[0m                                  Traceback (most recent call last)",
      "\u001b[0;32m/Library/Frameworks/Python.framework/Versions/3.9/lib/python3.9/site-packages/urllib3/connection.py\u001b[0m in \u001b[0;36m_new_conn\u001b[0;34m(self)\u001b[0m\n\u001b[1;32m    168\u001b[0m         \u001b[0;32mtry\u001b[0m\u001b[0;34m:\u001b[0m\u001b[0;34m\u001b[0m\u001b[0;34m\u001b[0m\u001b[0m\n\u001b[0;32m--> 169\u001b[0;31m             conn = connection.create_connection(\n\u001b[0m\u001b[1;32m    170\u001b[0m                 \u001b[0;34m(\u001b[0m\u001b[0mself\u001b[0m\u001b[0;34m.\u001b[0m\u001b[0m_dns_host\u001b[0m\u001b[0;34m,\u001b[0m \u001b[0mself\u001b[0m\u001b[0;34m.\u001b[0m\u001b[0mport\u001b[0m\u001b[0;34m)\u001b[0m\u001b[0;34m,\u001b[0m \u001b[0mself\u001b[0m\u001b[0;34m.\u001b[0m\u001b[0mtimeout\u001b[0m\u001b[0;34m,\u001b[0m \u001b[0;34m**\u001b[0m\u001b[0mextra_kw\u001b[0m\u001b[0;34m\u001b[0m\u001b[0;34m\u001b[0m\u001b[0m\n",
      "\u001b[0;32m/Library/Frameworks/Python.framework/Versions/3.9/lib/python3.9/site-packages/urllib3/util/connection.py\u001b[0m in \u001b[0;36mcreate_connection\u001b[0;34m(address, timeout, source_address, socket_options)\u001b[0m\n\u001b[1;32m     72\u001b[0m \u001b[0;34m\u001b[0m\u001b[0m\n\u001b[0;32m---> 73\u001b[0;31m     \u001b[0;32mfor\u001b[0m \u001b[0mres\u001b[0m \u001b[0;32min\u001b[0m \u001b[0msocket\u001b[0m\u001b[0;34m.\u001b[0m\u001b[0mgetaddrinfo\u001b[0m\u001b[0;34m(\u001b[0m\u001b[0mhost\u001b[0m\u001b[0;34m,\u001b[0m \u001b[0mport\u001b[0m\u001b[0;34m,\u001b[0m \u001b[0mfamily\u001b[0m\u001b[0;34m,\u001b[0m \u001b[0msocket\u001b[0m\u001b[0;34m.\u001b[0m\u001b[0mSOCK_STREAM\u001b[0m\u001b[0;34m)\u001b[0m\u001b[0;34m:\u001b[0m\u001b[0;34m\u001b[0m\u001b[0;34m\u001b[0m\u001b[0m\n\u001b[0m\u001b[1;32m     74\u001b[0m         \u001b[0maf\u001b[0m\u001b[0;34m,\u001b[0m \u001b[0msocktype\u001b[0m\u001b[0;34m,\u001b[0m \u001b[0mproto\u001b[0m\u001b[0;34m,\u001b[0m \u001b[0mcanonname\u001b[0m\u001b[0;34m,\u001b[0m \u001b[0msa\u001b[0m \u001b[0;34m=\u001b[0m \u001b[0mres\u001b[0m\u001b[0;34m\u001b[0m\u001b[0;34m\u001b[0m\u001b[0m\n",
      "\u001b[0;32m/Library/Frameworks/Python.framework/Versions/3.9/lib/python3.9/socket.py\u001b[0m in \u001b[0;36mgetaddrinfo\u001b[0;34m(host, port, family, type, proto, flags)\u001b[0m\n\u001b[1;32m    953\u001b[0m     \u001b[0maddrlist\u001b[0m \u001b[0;34m=\u001b[0m \u001b[0;34m[\u001b[0m\u001b[0;34m]\u001b[0m\u001b[0;34m\u001b[0m\u001b[0;34m\u001b[0m\u001b[0m\n\u001b[0;32m--> 954\u001b[0;31m     \u001b[0;32mfor\u001b[0m \u001b[0mres\u001b[0m \u001b[0;32min\u001b[0m \u001b[0m_socket\u001b[0m\u001b[0;34m.\u001b[0m\u001b[0mgetaddrinfo\u001b[0m\u001b[0;34m(\u001b[0m\u001b[0mhost\u001b[0m\u001b[0;34m,\u001b[0m \u001b[0mport\u001b[0m\u001b[0;34m,\u001b[0m \u001b[0mfamily\u001b[0m\u001b[0;34m,\u001b[0m \u001b[0mtype\u001b[0m\u001b[0;34m,\u001b[0m \u001b[0mproto\u001b[0m\u001b[0;34m,\u001b[0m \u001b[0mflags\u001b[0m\u001b[0;34m)\u001b[0m\u001b[0;34m:\u001b[0m\u001b[0;34m\u001b[0m\u001b[0;34m\u001b[0m\u001b[0m\n\u001b[0m\u001b[1;32m    955\u001b[0m         \u001b[0maf\u001b[0m\u001b[0;34m,\u001b[0m \u001b[0msocktype\u001b[0m\u001b[0;34m,\u001b[0m \u001b[0mproto\u001b[0m\u001b[0;34m,\u001b[0m \u001b[0mcanonname\u001b[0m\u001b[0;34m,\u001b[0m \u001b[0msa\u001b[0m \u001b[0;34m=\u001b[0m \u001b[0mres\u001b[0m\u001b[0;34m\u001b[0m\u001b[0;34m\u001b[0m\u001b[0m\n",
      "\u001b[0;31mgaierror\u001b[0m: [Errno 8] nodename nor servname provided, or not known",
      "\nDuring handling of the above exception, another exception occurred:\n",
      "\u001b[0;31mNewConnectionError\u001b[0m                        Traceback (most recent call last)",
      "\u001b[0;32m/Library/Frameworks/Python.framework/Versions/3.9/lib/python3.9/site-packages/urllib3/connectionpool.py\u001b[0m in \u001b[0;36murlopen\u001b[0;34m(self, method, url, body, headers, retries, redirect, assert_same_host, timeout, pool_timeout, release_conn, chunked, body_pos, **response_kw)\u001b[0m\n\u001b[1;32m    698\u001b[0m             \u001b[0;31m# Make the request on the httplib connection object.\u001b[0m\u001b[0;34m\u001b[0m\u001b[0;34m\u001b[0m\u001b[0m\n\u001b[0;32m--> 699\u001b[0;31m             httplib_response = self._make_request(\n\u001b[0m\u001b[1;32m    700\u001b[0m                 \u001b[0mconn\u001b[0m\u001b[0;34m,\u001b[0m\u001b[0;34m\u001b[0m\u001b[0;34m\u001b[0m\u001b[0m\n",
      "\u001b[0;32m/Library/Frameworks/Python.framework/Versions/3.9/lib/python3.9/site-packages/urllib3/connectionpool.py\u001b[0m in \u001b[0;36m_make_request\u001b[0;34m(self, conn, method, url, timeout, chunked, **httplib_request_kw)\u001b[0m\n\u001b[1;32m    381\u001b[0m         \u001b[0;32mtry\u001b[0m\u001b[0;34m:\u001b[0m\u001b[0;34m\u001b[0m\u001b[0;34m\u001b[0m\u001b[0m\n\u001b[0;32m--> 382\u001b[0;31m             \u001b[0mself\u001b[0m\u001b[0;34m.\u001b[0m\u001b[0m_validate_conn\u001b[0m\u001b[0;34m(\u001b[0m\u001b[0mconn\u001b[0m\u001b[0;34m)\u001b[0m\u001b[0;34m\u001b[0m\u001b[0;34m\u001b[0m\u001b[0m\n\u001b[0m\u001b[1;32m    383\u001b[0m         \u001b[0;32mexcept\u001b[0m \u001b[0;34m(\u001b[0m\u001b[0mSocketTimeout\u001b[0m\u001b[0;34m,\u001b[0m \u001b[0mBaseSSLError\u001b[0m\u001b[0;34m)\u001b[0m \u001b[0;32mas\u001b[0m \u001b[0me\u001b[0m\u001b[0;34m:\u001b[0m\u001b[0;34m\u001b[0m\u001b[0;34m\u001b[0m\u001b[0m\n",
      "\u001b[0;32m/Library/Frameworks/Python.framework/Versions/3.9/lib/python3.9/site-packages/urllib3/connectionpool.py\u001b[0m in \u001b[0;36m_validate_conn\u001b[0;34m(self, conn)\u001b[0m\n\u001b[1;32m   1009\u001b[0m         \u001b[0;32mif\u001b[0m \u001b[0;32mnot\u001b[0m \u001b[0mgetattr\u001b[0m\u001b[0;34m(\u001b[0m\u001b[0mconn\u001b[0m\u001b[0;34m,\u001b[0m \u001b[0;34m\"sock\"\u001b[0m\u001b[0;34m,\u001b[0m \u001b[0;32mNone\u001b[0m\u001b[0;34m)\u001b[0m\u001b[0;34m:\u001b[0m  \u001b[0;31m# AppEngine might not have  `.sock`\u001b[0m\u001b[0;34m\u001b[0m\u001b[0;34m\u001b[0m\u001b[0m\n\u001b[0;32m-> 1010\u001b[0;31m             \u001b[0mconn\u001b[0m\u001b[0;34m.\u001b[0m\u001b[0mconnect\u001b[0m\u001b[0;34m(\u001b[0m\u001b[0;34m)\u001b[0m\u001b[0;34m\u001b[0m\u001b[0;34m\u001b[0m\u001b[0m\n\u001b[0m\u001b[1;32m   1011\u001b[0m \u001b[0;34m\u001b[0m\u001b[0m\n",
      "\u001b[0;32m/Library/Frameworks/Python.framework/Versions/3.9/lib/python3.9/site-packages/urllib3/connection.py\u001b[0m in \u001b[0;36mconnect\u001b[0;34m(self)\u001b[0m\n\u001b[1;32m    352\u001b[0m         \u001b[0;31m# Add certificate verification\u001b[0m\u001b[0;34m\u001b[0m\u001b[0;34m\u001b[0m\u001b[0m\n\u001b[0;32m--> 353\u001b[0;31m         \u001b[0mconn\u001b[0m \u001b[0;34m=\u001b[0m \u001b[0mself\u001b[0m\u001b[0;34m.\u001b[0m\u001b[0m_new_conn\u001b[0m\u001b[0;34m(\u001b[0m\u001b[0;34m)\u001b[0m\u001b[0;34m\u001b[0m\u001b[0;34m\u001b[0m\u001b[0m\n\u001b[0m\u001b[1;32m    354\u001b[0m         \u001b[0mhostname\u001b[0m \u001b[0;34m=\u001b[0m \u001b[0mself\u001b[0m\u001b[0;34m.\u001b[0m\u001b[0mhost\u001b[0m\u001b[0;34m\u001b[0m\u001b[0;34m\u001b[0m\u001b[0m\n",
      "\u001b[0;32m/Library/Frameworks/Python.framework/Versions/3.9/lib/python3.9/site-packages/urllib3/connection.py\u001b[0m in \u001b[0;36m_new_conn\u001b[0;34m(self)\u001b[0m\n\u001b[1;32m    180\u001b[0m         \u001b[0;32mexcept\u001b[0m \u001b[0mSocketError\u001b[0m \u001b[0;32mas\u001b[0m \u001b[0me\u001b[0m\u001b[0;34m:\u001b[0m\u001b[0;34m\u001b[0m\u001b[0;34m\u001b[0m\u001b[0m\n\u001b[0;32m--> 181\u001b[0;31m             raise NewConnectionError(\n\u001b[0m\u001b[1;32m    182\u001b[0m                 \u001b[0mself\u001b[0m\u001b[0;34m,\u001b[0m \u001b[0;34m\"Failed to establish a new connection: %s\"\u001b[0m \u001b[0;34m%\u001b[0m \u001b[0me\u001b[0m\u001b[0;34m\u001b[0m\u001b[0;34m\u001b[0m\u001b[0m\n",
      "\u001b[0;31mNewConnectionError\u001b[0m: <urllib3.connection.HTTPSConnection object at 0x7f9c5e5cb100>: Failed to establish a new connection: [Errno 8] nodename nor servname provided, or not known",
      "\nDuring handling of the above exception, another exception occurred:\n",
      "\u001b[0;31mMaxRetryError\u001b[0m                             Traceback (most recent call last)",
      "\u001b[0;32m/Library/Frameworks/Python.framework/Versions/3.9/lib/python3.9/site-packages/requests/adapters.py\u001b[0m in \u001b[0;36msend\u001b[0;34m(self, request, stream, timeout, verify, cert, proxies)\u001b[0m\n\u001b[1;32m    438\u001b[0m             \u001b[0;32mif\u001b[0m \u001b[0;32mnot\u001b[0m \u001b[0mchunked\u001b[0m\u001b[0;34m:\u001b[0m\u001b[0;34m\u001b[0m\u001b[0;34m\u001b[0m\u001b[0m\n\u001b[0;32m--> 439\u001b[0;31m                 resp = conn.urlopen(\n\u001b[0m\u001b[1;32m    440\u001b[0m                     \u001b[0mmethod\u001b[0m\u001b[0;34m=\u001b[0m\u001b[0mrequest\u001b[0m\u001b[0;34m.\u001b[0m\u001b[0mmethod\u001b[0m\u001b[0;34m,\u001b[0m\u001b[0;34m\u001b[0m\u001b[0;34m\u001b[0m\u001b[0m\n",
      "\u001b[0;32m/Library/Frameworks/Python.framework/Versions/3.9/lib/python3.9/site-packages/urllib3/connectionpool.py\u001b[0m in \u001b[0;36murlopen\u001b[0;34m(self, method, url, body, headers, retries, redirect, assert_same_host, timeout, pool_timeout, release_conn, chunked, body_pos, **response_kw)\u001b[0m\n\u001b[1;32m    754\u001b[0m \u001b[0;34m\u001b[0m\u001b[0m\n\u001b[0;32m--> 755\u001b[0;31m             retries = retries.increment(\n\u001b[0m\u001b[1;32m    756\u001b[0m                 \u001b[0mmethod\u001b[0m\u001b[0;34m,\u001b[0m \u001b[0murl\u001b[0m\u001b[0;34m,\u001b[0m \u001b[0merror\u001b[0m\u001b[0;34m=\u001b[0m\u001b[0me\u001b[0m\u001b[0;34m,\u001b[0m \u001b[0m_pool\u001b[0m\u001b[0;34m=\u001b[0m\u001b[0mself\u001b[0m\u001b[0;34m,\u001b[0m \u001b[0m_stacktrace\u001b[0m\u001b[0;34m=\u001b[0m\u001b[0msys\u001b[0m\u001b[0;34m.\u001b[0m\u001b[0mexc_info\u001b[0m\u001b[0;34m(\u001b[0m\u001b[0;34m)\u001b[0m\u001b[0;34m[\u001b[0m\u001b[0;36m2\u001b[0m\u001b[0;34m]\u001b[0m\u001b[0;34m\u001b[0m\u001b[0;34m\u001b[0m\u001b[0m\n",
      "\u001b[0;32m/Library/Frameworks/Python.framework/Versions/3.9/lib/python3.9/site-packages/urllib3/util/retry.py\u001b[0m in \u001b[0;36mincrement\u001b[0;34m(self, method, url, response, error, _pool, _stacktrace)\u001b[0m\n\u001b[1;32m    573\u001b[0m         \u001b[0;32mif\u001b[0m \u001b[0mnew_retry\u001b[0m\u001b[0;34m.\u001b[0m\u001b[0mis_exhausted\u001b[0m\u001b[0;34m(\u001b[0m\u001b[0;34m)\u001b[0m\u001b[0;34m:\u001b[0m\u001b[0;34m\u001b[0m\u001b[0;34m\u001b[0m\u001b[0m\n\u001b[0;32m--> 574\u001b[0;31m             \u001b[0;32mraise\u001b[0m \u001b[0mMaxRetryError\u001b[0m\u001b[0;34m(\u001b[0m\u001b[0m_pool\u001b[0m\u001b[0;34m,\u001b[0m \u001b[0murl\u001b[0m\u001b[0;34m,\u001b[0m \u001b[0merror\u001b[0m \u001b[0;32mor\u001b[0m \u001b[0mResponseError\u001b[0m\u001b[0;34m(\u001b[0m\u001b[0mcause\u001b[0m\u001b[0;34m)\u001b[0m\u001b[0;34m)\u001b[0m\u001b[0;34m\u001b[0m\u001b[0;34m\u001b[0m\u001b[0m\n\u001b[0m\u001b[1;32m    575\u001b[0m \u001b[0;34m\u001b[0m\u001b[0m\n",
      "\u001b[0;31mMaxRetryError\u001b[0m: HTTPSConnectionPool(host='ckan-storsthlm.dataplatform.se', port=443): Max retries exceeded with url: /api/action/datastore_search?resource_id=5e2c496a-3a48-4a85-ace0-e8357cbb7a67&limit=500 (Caused by NewConnectionError('<urllib3.connection.HTTPSConnection object at 0x7f9c5e5cb100>: Failed to establish a new connection: [Errno 8] nodename nor servname provided, or not known'))",
      "\nDuring handling of the above exception, another exception occurred:\n",
      "\u001b[0;31mConnectionError\u001b[0m                           Traceback (most recent call last)",
      "\u001b[0;32m<ipython-input-1-5dee7612ad69>\u001b[0m in \u001b[0;36m<module>\u001b[0;34m\u001b[0m\n\u001b[1;32m      2\u001b[0m \u001b[0;32mimport\u001b[0m \u001b[0mjson\u001b[0m\u001b[0;34m\u001b[0m\u001b[0;34m\u001b[0m\u001b[0m\n\u001b[1;32m      3\u001b[0m \u001b[0murl\u001b[0m \u001b[0;34m=\u001b[0m \u001b[0;34m\"https://ckan-storsthlm.dataplatform.se/api/action/datastore_search?resource_id=5e2c496a-3a48-4a85-ace0-e8357cbb7a67&limit=500\"\u001b[0m\u001b[0;34m\u001b[0m\u001b[0;34m\u001b[0m\u001b[0m\n\u001b[0;32m----> 4\u001b[0;31m \u001b[0mreq\u001b[0m \u001b[0;34m=\u001b[0m \u001b[0mrequests\u001b[0m\u001b[0;34m.\u001b[0m\u001b[0mget\u001b[0m\u001b[0;34m(\u001b[0m\u001b[0murl\u001b[0m\u001b[0;34m)\u001b[0m\u001b[0;34m\u001b[0m\u001b[0;34m\u001b[0m\u001b[0m\n\u001b[0m\u001b[1;32m      5\u001b[0m \u001b[0;31m# Ensure we fail fast if the web request failed\u001b[0m\u001b[0;34m\u001b[0m\u001b[0;34m\u001b[0m\u001b[0m\n\u001b[1;32m      6\u001b[0m \u001b[0mreq\u001b[0m\u001b[0;34m.\u001b[0m\u001b[0mraise_for_status\u001b[0m\u001b[0;34m(\u001b[0m\u001b[0;34m)\u001b[0m\u001b[0;34m\u001b[0m\u001b[0;34m\u001b[0m\u001b[0m\n",
      "\u001b[0;32m/Library/Frameworks/Python.framework/Versions/3.9/lib/python3.9/site-packages/requests/api.py\u001b[0m in \u001b[0;36mget\u001b[0;34m(url, params, **kwargs)\u001b[0m\n\u001b[1;32m     74\u001b[0m \u001b[0;34m\u001b[0m\u001b[0m\n\u001b[1;32m     75\u001b[0m     \u001b[0mkwargs\u001b[0m\u001b[0;34m.\u001b[0m\u001b[0msetdefault\u001b[0m\u001b[0;34m(\u001b[0m\u001b[0;34m'allow_redirects'\u001b[0m\u001b[0;34m,\u001b[0m \u001b[0;32mTrue\u001b[0m\u001b[0;34m)\u001b[0m\u001b[0;34m\u001b[0m\u001b[0;34m\u001b[0m\u001b[0m\n\u001b[0;32m---> 76\u001b[0;31m     \u001b[0;32mreturn\u001b[0m \u001b[0mrequest\u001b[0m\u001b[0;34m(\u001b[0m\u001b[0;34m'get'\u001b[0m\u001b[0;34m,\u001b[0m \u001b[0murl\u001b[0m\u001b[0;34m,\u001b[0m \u001b[0mparams\u001b[0m\u001b[0;34m=\u001b[0m\u001b[0mparams\u001b[0m\u001b[0;34m,\u001b[0m \u001b[0;34m**\u001b[0m\u001b[0mkwargs\u001b[0m\u001b[0;34m)\u001b[0m\u001b[0;34m\u001b[0m\u001b[0;34m\u001b[0m\u001b[0m\n\u001b[0m\u001b[1;32m     77\u001b[0m \u001b[0;34m\u001b[0m\u001b[0m\n\u001b[1;32m     78\u001b[0m \u001b[0;34m\u001b[0m\u001b[0m\n",
      "\u001b[0;32m/Library/Frameworks/Python.framework/Versions/3.9/lib/python3.9/site-packages/requests/api.py\u001b[0m in \u001b[0;36mrequest\u001b[0;34m(method, url, **kwargs)\u001b[0m\n\u001b[1;32m     59\u001b[0m     \u001b[0;31m# cases, and look like a memory leak in others.\u001b[0m\u001b[0;34m\u001b[0m\u001b[0;34m\u001b[0m\u001b[0m\n\u001b[1;32m     60\u001b[0m     \u001b[0;32mwith\u001b[0m \u001b[0msessions\u001b[0m\u001b[0;34m.\u001b[0m\u001b[0mSession\u001b[0m\u001b[0;34m(\u001b[0m\u001b[0;34m)\u001b[0m \u001b[0;32mas\u001b[0m \u001b[0msession\u001b[0m\u001b[0;34m:\u001b[0m\u001b[0;34m\u001b[0m\u001b[0;34m\u001b[0m\u001b[0m\n\u001b[0;32m---> 61\u001b[0;31m         \u001b[0;32mreturn\u001b[0m \u001b[0msession\u001b[0m\u001b[0;34m.\u001b[0m\u001b[0mrequest\u001b[0m\u001b[0;34m(\u001b[0m\u001b[0mmethod\u001b[0m\u001b[0;34m=\u001b[0m\u001b[0mmethod\u001b[0m\u001b[0;34m,\u001b[0m \u001b[0murl\u001b[0m\u001b[0;34m=\u001b[0m\u001b[0murl\u001b[0m\u001b[0;34m,\u001b[0m \u001b[0;34m**\u001b[0m\u001b[0mkwargs\u001b[0m\u001b[0;34m)\u001b[0m\u001b[0;34m\u001b[0m\u001b[0;34m\u001b[0m\u001b[0m\n\u001b[0m\u001b[1;32m     62\u001b[0m \u001b[0;34m\u001b[0m\u001b[0m\n\u001b[1;32m     63\u001b[0m \u001b[0;34m\u001b[0m\u001b[0m\n",
      "\u001b[0;32m/Library/Frameworks/Python.framework/Versions/3.9/lib/python3.9/site-packages/requests/sessions.py\u001b[0m in \u001b[0;36mrequest\u001b[0;34m(self, method, url, params, data, headers, cookies, files, auth, timeout, allow_redirects, proxies, hooks, stream, verify, cert, json)\u001b[0m\n\u001b[1;32m    540\u001b[0m         }\n\u001b[1;32m    541\u001b[0m         \u001b[0msend_kwargs\u001b[0m\u001b[0;34m.\u001b[0m\u001b[0mupdate\u001b[0m\u001b[0;34m(\u001b[0m\u001b[0msettings\u001b[0m\u001b[0;34m)\u001b[0m\u001b[0;34m\u001b[0m\u001b[0;34m\u001b[0m\u001b[0m\n\u001b[0;32m--> 542\u001b[0;31m         \u001b[0mresp\u001b[0m \u001b[0;34m=\u001b[0m \u001b[0mself\u001b[0m\u001b[0;34m.\u001b[0m\u001b[0msend\u001b[0m\u001b[0;34m(\u001b[0m\u001b[0mprep\u001b[0m\u001b[0;34m,\u001b[0m \u001b[0;34m**\u001b[0m\u001b[0msend_kwargs\u001b[0m\u001b[0;34m)\u001b[0m\u001b[0;34m\u001b[0m\u001b[0;34m\u001b[0m\u001b[0m\n\u001b[0m\u001b[1;32m    543\u001b[0m \u001b[0;34m\u001b[0m\u001b[0m\n\u001b[1;32m    544\u001b[0m         \u001b[0;32mreturn\u001b[0m \u001b[0mresp\u001b[0m\u001b[0;34m\u001b[0m\u001b[0;34m\u001b[0m\u001b[0m\n",
      "\u001b[0;32m/Library/Frameworks/Python.framework/Versions/3.9/lib/python3.9/site-packages/requests/sessions.py\u001b[0m in \u001b[0;36msend\u001b[0;34m(self, request, **kwargs)\u001b[0m\n\u001b[1;32m    653\u001b[0m \u001b[0;34m\u001b[0m\u001b[0m\n\u001b[1;32m    654\u001b[0m         \u001b[0;31m# Send the request\u001b[0m\u001b[0;34m\u001b[0m\u001b[0;34m\u001b[0m\u001b[0m\n\u001b[0;32m--> 655\u001b[0;31m         \u001b[0mr\u001b[0m \u001b[0;34m=\u001b[0m \u001b[0madapter\u001b[0m\u001b[0;34m.\u001b[0m\u001b[0msend\u001b[0m\u001b[0;34m(\u001b[0m\u001b[0mrequest\u001b[0m\u001b[0;34m,\u001b[0m \u001b[0;34m**\u001b[0m\u001b[0mkwargs\u001b[0m\u001b[0;34m)\u001b[0m\u001b[0;34m\u001b[0m\u001b[0;34m\u001b[0m\u001b[0m\n\u001b[0m\u001b[1;32m    656\u001b[0m \u001b[0;34m\u001b[0m\u001b[0m\n\u001b[1;32m    657\u001b[0m         \u001b[0;31m# Total elapsed time of the request (approximately)\u001b[0m\u001b[0;34m\u001b[0m\u001b[0;34m\u001b[0m\u001b[0m\n",
      "\u001b[0;32m/Library/Frameworks/Python.framework/Versions/3.9/lib/python3.9/site-packages/requests/adapters.py\u001b[0m in \u001b[0;36msend\u001b[0;34m(self, request, stream, timeout, verify, cert, proxies)\u001b[0m\n\u001b[1;32m    514\u001b[0m                 \u001b[0;32mraise\u001b[0m \u001b[0mSSLError\u001b[0m\u001b[0;34m(\u001b[0m\u001b[0me\u001b[0m\u001b[0;34m,\u001b[0m \u001b[0mrequest\u001b[0m\u001b[0;34m=\u001b[0m\u001b[0mrequest\u001b[0m\u001b[0;34m)\u001b[0m\u001b[0;34m\u001b[0m\u001b[0;34m\u001b[0m\u001b[0m\n\u001b[1;32m    515\u001b[0m \u001b[0;34m\u001b[0m\u001b[0m\n\u001b[0;32m--> 516\u001b[0;31m             \u001b[0;32mraise\u001b[0m \u001b[0mConnectionError\u001b[0m\u001b[0;34m(\u001b[0m\u001b[0me\u001b[0m\u001b[0;34m,\u001b[0m \u001b[0mrequest\u001b[0m\u001b[0;34m=\u001b[0m\u001b[0mrequest\u001b[0m\u001b[0;34m)\u001b[0m\u001b[0;34m\u001b[0m\u001b[0;34m\u001b[0m\u001b[0m\n\u001b[0m\u001b[1;32m    517\u001b[0m \u001b[0;34m\u001b[0m\u001b[0m\n\u001b[1;32m    518\u001b[0m         \u001b[0;32mexcept\u001b[0m \u001b[0mClosedPoolError\u001b[0m \u001b[0;32mas\u001b[0m \u001b[0me\u001b[0m\u001b[0;34m:\u001b[0m\u001b[0;34m\u001b[0m\u001b[0;34m\u001b[0m\u001b[0m\n",
      "\u001b[0;31mConnectionError\u001b[0m: HTTPSConnectionPool(host='ckan-storsthlm.dataplatform.se', port=443): Max retries exceeded with url: /api/action/datastore_search?resource_id=5e2c496a-3a48-4a85-ace0-e8357cbb7a67&limit=500 (Caused by NewConnectionError('<urllib3.connection.HTTPSConnection object at 0x7f9c5e5cb100>: Failed to establish a new connection: [Errno 8] nodename nor servname provided, or not known'))"
     ]
    }
   ],
   "source": [
    "import requests\n",
    "import json\n",
    "url = \"https://ckan-storsthlm.dataplatform.se/api/action/datastore_search?resource_id=5e2c496a-3a48-4a85-ace0-e8357cbb7a67&limit=500\"\n",
    "req = requests.get(url) \n",
    "# Ensure we fail fast if the web request failed\n",
    "req.raise_for_status() \n",
    "data = json.loads(req.text)"
   ]
  },
  {
   "cell_type": "code",
   "execution_count": null,
   "metadata": {},
   "outputs": [],
   "source": [
    "import pandas as pd \n",
    "import geopandas as gpd\n",
    "import matplotlib.pyplot as plt \n",
    "df =  pd.DataFrame(data[\"result\"][\"records\"])\n",
    "df.info"
   ]
  },
  {
   "cell_type": "code",
   "execution_count": null,
   "metadata": {},
   "outputs": [],
   "source": [
    "df.info()"
   ]
  },
  {
   "cell_type": "code",
   "execution_count": null,
   "metadata": {},
   "outputs": [],
   "source": [
    "from keplergl import KeplerGl\n",
    "map1=KeplerGl(height=800)\n",
    "map1.add_data(data=df,name='Stockholm Utegym') "
   ]
  },
  {
   "cell_type": "code",
   "execution_count": null,
   "metadata": {},
   "outputs": [],
   "source": [
    "print(\"_id\",\"|\",\"Kommun-KOD\",\"|\",\"Utegym-ID\",\"|\",\"Namn\",\"|\",\"Namn pa plats\",\"|\",\"Koordinat_Lat_(WGS84)\",\"|\",\"Koordinat_Long_(WGS84)\") \n",
    "for index, r in df.iterrows():\n",
    "    print(r[\"_id\"],\"|\",r[\"Kommun-KOD\"],\"|\",r[\"Utegym-ID\"],\"|\",r[\"Namn\"],\"|\",r[\"Namn pa plats\"],\"|\",r[\"Koordinat_Lat_(WGS84)\"],\"|\",r[\"Koordinat_Long_(WGS84)\"])"
   ]
  },
  {
   "cell_type": "code",
   "execution_count": null,
   "metadata": {},
   "outputs": [],
   "source": [
    "for index, r in df.iterrows():\n",
    "    print(r[\"Namn pa agare\"])"
   ]
  },
  {
   "cell_type": "markdown",
   "metadata": {},
   "source": [
    "## Wikidata\n",
    "frågar Wikidata utegym Stockholms stad"
   ]
  },
  {
   "cell_type": "code",
   "execution_count": null,
   "metadata": {},
   "outputs": [],
   "source": [
    "# pip install sparqlwrapper\n",
    "# https://rdflib.github.io/sparqlwrapper/\n",
    "\n",
    "import sys\n",
    "from SPARQLWrapper import SPARQLWrapper, JSON\n",
    "\n",
    "endpoint_url = \"https://query.wikidata.org/sparql\"\n",
    "\n",
    "query = \"\"\"SELECT ?item ?label ?_image ?www ?inv WHERE {\n",
    "  ?item wdt:P31 wd:Q692630.\n",
    "  ?item wdt:P131 wd:Q506250.\n",
    "  OPTIONAL {?item wdt:P856 ?www}\n",
    "  OPTIONAL {?item wdt:P217 ?inv}\n",
    "  SERVICE wikibase:label {\n",
    "    bd:serviceParam wikibase:language \"sv\" . \n",
    "    ?item rdfs:label ?label\n",
    "  }\n",
    "  \n",
    "OPTIONAL { ?item wdt:P18 ?_image. }\n",
    "} order by  ?label\n",
    "LIMIT 100\"\"\"\n",
    "\n",
    "\n",
    "def get_results(endpoint_url, query):\n",
    "    user_agent = \"User salgo60 Jupyter/%s.%s\" % (sys.version_info[0], sys.version_info[1])\n",
    "    sparql = SPARQLWrapper(endpoint_url, agent=user_agent)\n",
    "    sparql.setQuery(query)\n",
    "    sparql.setReturnFormat(JSON)\n",
    "    return sparql.query().convert()\n",
    "\n",
    "\n",
    "results = get_results(endpoint_url, query)\n",
    "\n",
    "for result in results[\"results\"][\"bindings\"]:\n",
    "    #print(result) \n",
    "    print(\"\\n\",result[\"inv\"][\"value\"],result[\"label\"][\"value\"],result[\"item\"][\"value\"],result[\"www\"][\"value\"])\n",
    "    #print(\"\\n\",result[\"label\"][\"value\"],result[\"item\"][\"value\"],result[\"www\"][\"value\"])\n"
   ]
  },
  {
   "cell_type": "markdown",
   "metadata": {},
   "source": [
    "## Open Street Map\n",
    "hämta utegym Open Street Map"
   ]
  },
  {
   "cell_type": "code",
   "execution_count": null,
   "metadata": {},
   "outputs": [],
   "source": []
  }
 ],
 "metadata": {
  "kernelspec": {
   "display_name": "Python 3",
   "language": "python",
   "name": "python3"
  },
  "language_info": {
   "codemirror_mode": {
    "name": "ipython",
    "version": 3
   },
   "file_extension": ".py",
   "mimetype": "text/x-python",
   "name": "python",
   "nbconvert_exporter": "python",
   "pygments_lexer": "ipython3",
   "version": "3.9.13"
  }
 },
 "nbformat": 4,
 "nbformat_minor": 4
}
