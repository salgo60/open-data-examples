{
 "cells": [
  {
   "cell_type": "markdown",
   "metadata": {},
   "source": [
    "## Webscrape kulturpersoner uppsalakyrkogardar\n",
    "version 0.4\n",
    "\n",
    "checks uppsalakyrkogardar and compare with Wikidata. \n",
    "\n",
    "* This [notebook](https://github.com/salgo60/open-data-examples/blob/master/Check%20WD%20kulturpersoner%20uppsalakyrkogardar.ipynb)\n",
    "* Wikidata SPARQL https://w.wiki/PgP\n",
    "* Webpage to check https://kulturpersoner.uppsalakyrkogardar.se/galleri/\n",
    "\n",
    "#### Other sources we sync\n",
    "* [Kulturpersoner Uppsalakyrkogård](https://github.com/salgo60/open-data-examples/blob/master/Check%20WD%20kulturpersoner%20uppsalakyrkogardar.ipynb)\n",
    "* [Litteraturbanken](https://github.com/salgo60/open-data-examples/blob/master/Litteraturbanken%20Author.ipynb) \n",
    "  * WD property [P5101](https://www.wikidata.org/wiki/Property_talk:P5101) [P5123](https://www.wikidata.org/wiki/Property_talk:P5123)\n",
    "* [Nobelprize.org](https://github.com/salgo60/open-data-examples/blob/master/Nobel%20API.ipynb)\n",
    "  * WD [property 8024](https://www.wikidata.org/wiki/Property:P8024)\n",
    "* [SBL](https://github.com/salgo60/open-data-examples/blob/master/SBL.ipynb) \n",
    "  * WD [property 3217](https://www.wikidata.org/wiki/Property:P3217) \n",
    "* [SKBL](https://github.com/salgo60/open-data-examples/blob/master/Svenskt%20Kvinnobiografiskt%20lexikon%20part%203.ipynb)\n",
    "  * WD [property 4963](https://www.wikidata.org/wiki/Property:P4963)\n",
    "* [Svenska Akademien](https://github.com/salgo60/open-data-examples/blob/master/Svenska%20Akademien.ipynb) \n",
    "  * WD [property 5325](https://www.wikidata.org/wiki/Property:P5325) \n"
   ]
  },
  {
   "cell_type": "code",
   "execution_count": 1,
   "metadata": {},
   "outputs": [
    {
     "name": "stdout",
     "output_type": "stream",
     "text": [
      "Last run:  2023-02-16 10:00:29.897586\n"
     ]
    }
   ],
   "source": [
    "from datetime import datetime\n",
    "start_time  = datetime.now()\n",
    "print(\"Last run: \", start_time)"
   ]
  },
  {
   "cell_type": "code",
   "execution_count": 2,
   "metadata": {},
   "outputs": [
    {
     "name": "stdout",
     "output_type": "stream",
     "text": [
      "131  antal poster\n"
     ]
    }
   ],
   "source": [
    "#https://kulturpersoner.uppsalakyrkogardar.se/galleri/\n",
    "import requests\n",
    "import urllib.request\n",
    "import time\n",
    "from bs4 import BeautifulSoup\n",
    "def cleanupstring(s):\n",
    "    out_s = s\n",
    "    while '  ' in out_s:\n",
    "        out_s = out_s.strip().replace('  ', ' ')\n",
    "    return out_s, len(s)-len(out_s)\n",
    "\n",
    "urls = [\n",
    "    'https://kulturpersoner.uppsalakyrkogardar.se/galleri/']\n",
    "\n",
    "newList = []\n",
    "\n",
    "for url in urls:\n",
    "\n",
    "    response = requests.get(url)\n",
    "    soup = BeautifulSoup(response.text, \"html.parser\")\n",
    "    soup.findAll('a')\n",
    "    one_a_tag = soup.findAll('a')[0]\n",
    "    #    print ( one_a_tag )\n",
    "    #   link = one_a_tag['href']\n",
    "    time.sleep(1)\n",
    "    for i in range(1, len(soup.findAll('a'))):\n",
    "        new_item = dict()\n",
    "        one_a_tag = soup.findAll('a')[i]\n",
    "        one_a_tag_href = one_a_tag['href']\n",
    "        #print(one_a_tag_href)\n",
    "        #print(\"\\t\",one_a_tag.text)\n",
    "        if   \"karta\" not in one_a_tag_href \\\n",
    "                and not \"Kyrkogårdsvandring\" in one_a_tag.text \\\n",
    "                and not \"Search\" in one_a_tag.text \\\n",
    "                and not \"Start\" in one_a_tag.text \\\n",
    "                and not \"Vandringar\" in one_a_tag.text \\\n",
    "                and not \"Guidad\" in one_a_tag.text \\\n",
    "                and not \"galleri\" in one_a_tag_href \\\n",
    "                and not \"om-oss\"  in one_a_tag_href \\\n",
    "                and not \"kyrkogardsexpedition\"  in one_a_tag_href:\n",
    "            #print(one_a_tag.text,\"|\",one_a_tag.text.replace(\" \",\"_\").replace(\"%C3%84\",\"Ä\"),\"|\",one_a_tag_href.replace(\"/genealogi/\",\"\"))\n",
    "            \n",
    "            #person = one_a_tag.text.replace(\"https://kulturpersoner.uppsalakyrkogardar.se/\",\"\").replace(\"-\",\" \").replace(\"%C3%84\",\"Ä\")\n",
    "            #person = one_a_tag.text.replace(\"https://kulturpersoner.uppsalakyrkogardar.se/\",\"\")\n",
    "            new_item[\"kulturgravname\"] = one_a_tag.text\n",
    "            new_item[\"href\"] = one_a_tag['href'].replace(\"https://kulturpersoner.uppsalakyrkogardar.se/\",\"\").replace(\"/\",\"\")\n",
    "            #print(new_item)\n",
    "            newList.append(new_item)\n",
    "print (len(newList) ,\" antal poster\")"
   ]
  },
  {
   "cell_type": "code",
   "execution_count": 3,
   "metadata": {},
   "outputs": [],
   "source": [
    "import pandas as pd  \n",
    "Kulturgravar = pd.DataFrame(newList)"
   ]
  },
  {
   "cell_type": "code",
   "execution_count": 4,
   "metadata": {},
   "outputs": [
    {
     "data": {
      "text/html": [
       "<div>\n",
       "<style scoped>\n",
       "    .dataframe tbody tr th:only-of-type {\n",
       "        vertical-align: middle;\n",
       "    }\n",
       "\n",
       "    .dataframe tbody tr th {\n",
       "        vertical-align: top;\n",
       "    }\n",
       "\n",
       "    .dataframe thead th {\n",
       "        text-align: right;\n",
       "    }\n",
       "</style>\n",
       "<table border=\"1\" class=\"dataframe\">\n",
       "  <thead>\n",
       "    <tr style=\"text-align: right;\">\n",
       "      <th></th>\n",
       "      <th>kulturgravname</th>\n",
       "      <th>href</th>\n",
       "    </tr>\n",
       "  </thead>\n",
       "  <tbody>\n",
       "    <tr>\n",
       "      <th>0</th>\n",
       "      <td>Digitala kyrkogårdsvandringar</td>\n",
       "      <td>digitalvandring</td>\n",
       "    </tr>\n",
       "    <tr>\n",
       "      <th>1</th>\n",
       "      <td>SV</td>\n",
       "      <td>#weglot_switcher</td>\n",
       "    </tr>\n",
       "    <tr>\n",
       "      <th>2</th>\n",
       "      <td>Anita Nathorst</td>\n",
       "      <td>anita-nathorst</td>\n",
       "    </tr>\n",
       "    <tr>\n",
       "      <th>3</th>\n",
       "      <td>Henri Osti</td>\n",
       "      <td>henri-osti</td>\n",
       "    </tr>\n",
       "    <tr>\n",
       "      <th>4</th>\n",
       "      <td>Fadime Sahindal</td>\n",
       "      <td>fadime-sahindal</td>\n",
       "    </tr>\n",
       "  </tbody>\n",
       "</table>\n",
       "</div>"
      ],
      "text/plain": [
       "                  kulturgravname              href\n",
       "0  Digitala kyrkogårdsvandringar   digitalvandring\n",
       "1                             SV  #weglot_switcher\n",
       "2                 Anita Nathorst    anita-nathorst\n",
       "3                     Henri Osti        henri-osti\n",
       "4                Fadime Sahindal   fadime-sahindal"
      ]
     },
     "execution_count": 4,
     "metadata": {},
     "output_type": "execute_result"
    }
   ],
   "source": [
    "Kulturgravar.head()"
   ]
  },
  {
   "cell_type": "markdown",
   "metadata": {},
   "source": [
    "## Wikidata  \n",
    "check graves with ref kulturpersoner https://w.wiki/crt"
   ]
  },
  {
   "cell_type": "code",
   "execution_count": 5,
   "metadata": {},
   "outputs": [],
   "source": [
    "# pip install sparqlwrapper\n",
    "# https://rdflib.github.io/sparqlwrapper/\n",
    "\n",
    "import sys,json\n",
    "from SPARQLWrapper import SPARQLWrapper, JSON\n",
    "\n",
    "endpoint_url = \"https://query.wikidata.org/sparql\"\n",
    "\n",
    "# https://w.wiki/3teL\n",
    "\n",
    "query = \"\"\"select ?person (REPLACE(STR(?person),\".*Q\",\"Q\") AS ?qid) ?personLabel ?refURL ?href\n",
    "{\n",
    "   hint:Query hint:optimizer \"None\" .\n",
    "   ?person wdt:P119 wd:Q4353116;\n",
    "           p:P119 ?burial_statement. #Place of burial\n",
    "   {?burial_statement prov:wasDerivedFrom ?ref}\n",
    "   {?ref pr:P854 ?refURL} \n",
    "   FILTER (CONTAINS(str(?refURL),'kulturpersoner')) .  \n",
    "   BIND(REPLACE(REPLACE(str(?refURL), \"https://kulturpersoner.uppsalakyrkogardar.se/\", \"\"),\"/\",\"\") AS ?href)\n",
    " \n",
    "   SERVICE wikibase:label { bd:serviceParam wikibase:language \"sv\"}\n",
    "   Filter(!CONTAINS(str(?refURL),\".mp4\") ) # some links to mp4\n",
    "}\n",
    "Order by ?personLabel\n",
    "\"\"\"\n",
    "\n",
    "def get_sparql_dataframe(endpoint_url, query):\n",
    "    \"\"\"\n",
    "    Helper function to convert SPARQL results into a Pandas data frame.\n",
    "    \"\"\"\n",
    "    user_agent = \"salgo60/%s.%s\" % (sys.version_info[0], sys.version_info[1])\n",
    " \n",
    "    sparql = SPARQLWrapper(endpoint_url, agent=user_agent)\n",
    "    sparql.setQuery(query)\n",
    "    sparql.setReturnFormat(JSON)\n",
    "    result = sparql.query()\n",
    "\n",
    "    processed_results = json.load(result.response)\n",
    "    cols = processed_results['head']['vars']\n",
    "\n",
    "    out = []\n",
    "    for row in processed_results['results']['bindings']:\n",
    "        item = []\n",
    "        for c in cols:\n",
    "            item.append(row.get(c, {}).get('value'))\n",
    "        out.append(item)\n",
    "\n",
    "    return pd.DataFrame(out, columns=cols)\n",
    "\n",
    "WDKulturGravar = get_sparql_dataframe(endpoint_url, query)\n"
   ]
  },
  {
   "cell_type": "code",
   "execution_count": 6,
   "metadata": {},
   "outputs": [
    {
     "name": "stdout",
     "output_type": "stream",
     "text": [
      "<class 'pandas.core.frame.DataFrame'>\n",
      "RangeIndex: 122 entries, 0 to 121\n",
      "Data columns (total 5 columns):\n",
      " #   Column       Non-Null Count  Dtype \n",
      "---  ------       --------------  ----- \n",
      " 0   person       122 non-null    object\n",
      " 1   qid          122 non-null    object\n",
      " 2   personLabel  122 non-null    object\n",
      " 3   refURL       122 non-null    object\n",
      " 4   href         122 non-null    object\n",
      "dtypes: object(5)\n",
      "memory usage: 4.9+ KB\n"
     ]
    }
   ],
   "source": [
    "WDKulturGravar.to_csv(\"Check_WD_kulturpersoner_uppsalakyrkogardar.csv\")\n",
    "WDKulturGravar.info()"
   ]
  },
  {
   "cell_type": "code",
   "execution_count": 7,
   "metadata": {},
   "outputs": [
    {
     "name": "stderr",
     "output_type": "stream",
     "text": [
      "<ipython-input-7-7b80f6f28e4d>:6: FutureWarning: Passing a set as an indexer is deprecated and will raise in a future version. Use a list instead.\n",
      "  HTML(WDKulturGravar[{'WD','personLabel','kulturperson'}].tail(15).to_html(escape=False))\n"
     ]
    },
    {
     "data": {
      "text/html": [
       "<table border=\"1\" class=\"dataframe\">\n",
       "  <thead>\n",
       "    <tr style=\"text-align: right;\">\n",
       "      <th></th>\n",
       "      <th>personLabel</th>\n",
       "      <th>kulturperson</th>\n",
       "      <th>WD</th>\n",
       "    </tr>\n",
       "  </thead>\n",
       "  <tbody>\n",
       "    <tr>\n",
       "      <th>107</th>\n",
       "      <td>Rutger Sernander</td>\n",
       "      <td><a href='https://kulturpersoner.uppsalakyrkogardar.se/rutger-sernander'>rutger-sernander</a></td>\n",
       "      <td><a href='http://www.wikidata.org/entity/Q919826#P119'>WD Q919826</a></td>\n",
       "    </tr>\n",
       "    <tr>\n",
       "      <th>108</th>\n",
       "      <td>Sixtus Janson</td>\n",
       "      <td><a href='https://kulturpersoner.uppsalakyrkogardar.se/sixtus-janson'>sixtus-janson</a></td>\n",
       "      <td><a href='http://www.wikidata.org/entity/Q38772992#P119'>WD Q38772992</a></td>\n",
       "    </tr>\n",
       "    <tr>\n",
       "      <th>109</th>\n",
       "      <td>Sonja Lyttkens</td>\n",
       "      <td><a href='https://kulturpersoner.uppsalakyrkogardar.se/sonja-lyttkens'>sonja-lyttkens</a></td>\n",
       "      <td><a href='http://www.wikidata.org/entity/Q19844789#P119'>WD Q19844789</a></td>\n",
       "    </tr>\n",
       "    <tr>\n",
       "      <th>110</th>\n",
       "      <td>Svante Arrhenius</td>\n",
       "      <td><a href='https://kulturpersoner.uppsalakyrkogardar.se/svante-arrhenius'>svante-arrhenius</a></td>\n",
       "      <td><a href='http://www.wikidata.org/entity/Q80956#P119'>WD Q80956</a></td>\n",
       "    </tr>\n",
       "    <tr>\n",
       "      <th>111</th>\n",
       "      <td>Sven Anders Hägg</td>\n",
       "      <td><a href='https://kulturpersoner.uppsalakyrkogardar.se/sven-anders-hagg'>sven-anders-hagg</a></td>\n",
       "      <td><a href='http://www.wikidata.org/entity/Q99485352#P119'>WD Q99485352</a></td>\n",
       "    </tr>\n",
       "    <tr>\n",
       "      <th>112</th>\n",
       "      <td>Sven Lilja</td>\n",
       "      <td><a href='https://kulturpersoner.uppsalakyrkogardar.se/sven-lilja'>sven-lilja</a></td>\n",
       "      <td><a href='http://www.wikidata.org/entity/Q5951505#P119'>WD Q5951505</a></td>\n",
       "    </tr>\n",
       "    <tr>\n",
       "      <th>113</th>\n",
       "      <td>Thekla Knös</td>\n",
       "      <td><a href='https://kulturpersoner.uppsalakyrkogardar.se/thekla-knos'>thekla-knos</a></td>\n",
       "      <td><a href='http://www.wikidata.org/entity/Q4959294#P119'>WD Q4959294</a></td>\n",
       "    </tr>\n",
       "    <tr>\n",
       "      <th>114</th>\n",
       "      <td>Topper Martyn</td>\n",
       "      <td><a href='https://kulturpersoner.uppsalakyrkogardar.se/topper-martyn'>topper-martyn</a></td>\n",
       "      <td><a href='http://www.wikidata.org/entity/Q5978552#P119'>WD Q5978552</a></td>\n",
       "    </tr>\n",
       "    <tr>\n",
       "      <th>115</th>\n",
       "      <td>Tycho Hedén</td>\n",
       "      <td><a href='https://kulturpersoner.uppsalakyrkogardar.se/tycho-heden'>tycho-heden</a></td>\n",
       "      <td><a href='http://www.wikidata.org/entity/Q5795469#P119'>WD Q5795469</a></td>\n",
       "    </tr>\n",
       "    <tr>\n",
       "      <th>116</th>\n",
       "      <td>Ulla-Bella Fridh</td>\n",
       "      <td><a href='https://kulturpersoner.uppsalakyrkogardar.se/ulla-bella-fridh-gabrielsson'>ulla-bella-fridh-gabrielsson</a></td>\n",
       "      <td><a href='http://www.wikidata.org/entity/Q4948950#P119'>WD Q4948950</a></td>\n",
       "    </tr>\n",
       "    <tr>\n",
       "      <th>117</th>\n",
       "      <td>Uno von Troil</td>\n",
       "      <td><a href='https://kulturpersoner.uppsalakyrkogardar.se/uno-von-troil'>uno-von-troil</a></td>\n",
       "      <td><a href='http://www.wikidata.org/entity/Q943803#P119'>WD Q943803</a></td>\n",
       "    </tr>\n",
       "    <tr>\n",
       "      <th>118</th>\n",
       "      <td>Viktor Persson</td>\n",
       "      <td><a href='https://kulturpersoner.uppsalakyrkogardar.se/viktor-persson'>viktor-persson</a></td>\n",
       "      <td><a href='http://www.wikidata.org/entity/Q6043915#P119'>WD Q6043915</a></td>\n",
       "    </tr>\n",
       "    <tr>\n",
       "      <th>119</th>\n",
       "      <td>Vivi Laurent-Täckholm</td>\n",
       "      <td><a href='https://kulturpersoner.uppsalakyrkogardar.se/vivi-tackholm'>vivi-tackholm</a></td>\n",
       "      <td><a href='http://www.wikidata.org/entity/Q4983741#P119'>WD Q4983741</a></td>\n",
       "    </tr>\n",
       "    <tr>\n",
       "      <th>120</th>\n",
       "      <td>Yngve Svalander</td>\n",
       "      <td><a href='https://kulturpersoner.uppsalakyrkogardar.se/yngve-svalander'>yngve-svalander</a></td>\n",
       "      <td><a href='http://www.wikidata.org/entity/Q6197251#P119'>WD Q6197251</a></td>\n",
       "    </tr>\n",
       "    <tr>\n",
       "      <th>121</th>\n",
       "      <td>Åke Holm</td>\n",
       "      <td><a href='https://kulturpersoner.uppsalakyrkogardar.se/ake-holm'>ake-holm</a></td>\n",
       "      <td><a href='http://www.wikidata.org/entity/Q13390628#P119'>WD Q13390628</a></td>\n",
       "    </tr>\n",
       "  </tbody>\n",
       "</table>"
      ],
      "text/plain": [
       "<IPython.core.display.HTML object>"
      ]
     },
     "execution_count": 7,
     "metadata": {},
     "output_type": "execute_result"
    }
   ],
   "source": [
    "from IPython.display import display, HTML  \n",
    "WDKulturGravar[\"WD\"] = \"<a href='http://www.wikidata.org/entity/\" + WDKulturGravar['qid'].astype(str) + \"#P119'>WD \" + WDKulturGravar['qid'].astype(str) + \"</a>\"\n",
    "WDKulturGravar[\"kulturperson\"] = \"<a href='https://kulturpersoner.uppsalakyrkogardar.se/\" + WDKulturGravar['href'].astype(str) + \"'>\" + WDKulturGravar['href'].astype(str) + \"</a>\"\n",
    "\n",
    "pd.set_option(\"display.max.columns\", None) \n",
    "HTML(WDKulturGravar[{'WD','personLabel','kulturperson'}].tail(15).to_html(escape=False))\n"
   ]
  },
  {
   "cell_type": "markdown",
   "metadata": {},
   "source": [
    "compare href "
   ]
  },
  {
   "cell_type": "code",
   "execution_count": 8,
   "metadata": {},
   "outputs": [],
   "source": [
    "dfmerge = pd.merge(WDKulturGravar, Kulturgravar,how='outer', on='href',indicator=True)"
   ]
  },
  {
   "cell_type": "code",
   "execution_count": 9,
   "metadata": {},
   "outputs": [],
   "source": [
    "dfmerge['_merge'] = dfmerge['_merge'].str.replace('left_only','Wikidata_only').str.replace('right_only','Kulturgravar_only')\n",
    "dfmerge.rename(columns={\"_merge\": \"Kulturgravar_Wikidata\"},inplace = True)\n"
   ]
  },
  {
   "cell_type": "code",
   "execution_count": 10,
   "metadata": {},
   "outputs": [
    {
     "data": {
      "text/plain": [
       "both                 128\n",
       "Kulturgravar_only      4\n",
       "Wikidata_only          1\n",
       "Name: Kulturgravar_Wikidata, dtype: int64"
      ]
     },
     "execution_count": 10,
     "metadata": {},
     "output_type": "execute_result"
    }
   ],
   "source": [
    "dfmerge[\"Kulturgravar_Wikidata\"].value_counts()"
   ]
  },
  {
   "cell_type": "markdown",
   "metadata": {},
   "source": [
    "### Any diff Wikidata <-> Kulturgravar"
   ]
  },
  {
   "cell_type": "code",
   "execution_count": 11,
   "metadata": {},
   "outputs": [
    {
     "data": {
      "text/plain": [
       "5"
      ]
     },
     "execution_count": 11,
     "metadata": {},
     "output_type": "execute_result"
    }
   ],
   "source": [
    "KulturgravarNotBoth = dfmerge[~(dfmerge[\"Kulturgravar_Wikidata\"] == \"both\")].copy() \n",
    "KulturgravarNotBoth.shape[0]\n"
   ]
  },
  {
   "cell_type": "code",
   "execution_count": 12,
   "metadata": {},
   "outputs": [
    {
     "data": {
      "text/plain": [
       "29     https://kulturpersoner.uppsalakyrkogardar.se/e...\n",
       "129                                                  NaN\n",
       "130                                                  NaN\n",
       "131                                                  NaN\n",
       "132                                                  NaN\n",
       "Name: refURL, dtype: object"
      ]
     },
     "execution_count": 12,
     "metadata": {},
     "output_type": "execute_result"
    }
   ],
   "source": [
    "KulturgravarNotBoth[\"refURL\"]\n"
   ]
  },
  {
   "cell_type": "code",
   "execution_count": 13,
   "metadata": {},
   "outputs": [],
   "source": [
    "Kulturgravaronly = dfmerge[dfmerge[\"Kulturgravar_Wikidata\"] == \"Kulturgravar_only\"].copy() "
   ]
  },
  {
   "cell_type": "code",
   "execution_count": 14,
   "metadata": {},
   "outputs": [
    {
     "name": "stdout",
     "output_type": "stream",
     "text": [
      "<class 'pandas.core.frame.DataFrame'>\n",
      "Int64Index: 4 entries, 129 to 132\n",
      "Data columns (total 9 columns):\n",
      " #   Column                 Non-Null Count  Dtype \n",
      "---  ------                 --------------  ----- \n",
      " 0   person                 0 non-null      object\n",
      " 1   qid                    0 non-null      object\n",
      " 2   personLabel            0 non-null      object\n",
      " 3   refURL                 0 non-null      object\n",
      " 4   href                   4 non-null      object\n",
      " 5   WD                     0 non-null      object\n",
      " 6   kulturperson           0 non-null      object\n",
      " 7   kulturgravname         4 non-null      object\n",
      " 8   Kulturgravar_Wikidata  4 non-null      object\n",
      "dtypes: object(9)\n",
      "memory usage: 320.0+ bytes\n"
     ]
    }
   ],
   "source": [
    "Kulturgravaronly.info()"
   ]
  },
  {
   "cell_type": "code",
   "execution_count": 15,
   "metadata": {},
   "outputs": [
    {
     "data": {
      "text/html": [
       "<div>\n",
       "<style scoped>\n",
       "    .dataframe tbody tr th:only-of-type {\n",
       "        vertical-align: middle;\n",
       "    }\n",
       "\n",
       "    .dataframe tbody tr th {\n",
       "        vertical-align: top;\n",
       "    }\n",
       "\n",
       "    .dataframe thead th {\n",
       "        text-align: right;\n",
       "    }\n",
       "</style>\n",
       "<table border=\"1\" class=\"dataframe\">\n",
       "  <thead>\n",
       "    <tr style=\"text-align: right;\">\n",
       "      <th></th>\n",
       "      <th>kulturgravname</th>\n",
       "      <th>url</th>\n",
       "    </tr>\n",
       "  </thead>\n",
       "  <tbody>\n",
       "    <tr>\n",
       "      <th>0</th>\n",
       "      <td>Digitala kyrkogårdsvandringar</td>\n",
       "      <td>https://kulturpersoner.uppsalakyrkogardar.se/digitalvandring</td>\n",
       "    </tr>\n",
       "    <tr>\n",
       "      <th>1</th>\n",
       "      <td>SV</td>\n",
       "      <td>https://kulturpersoner.uppsalakyrkogardar.se/#weglot_switcher</td>\n",
       "    </tr>\n",
       "    <tr>\n",
       "      <th>2</th>\n",
       "      <td>Henri Osti</td>\n",
       "      <td>https://kulturpersoner.uppsalakyrkogardar.se/henri-osti</td>\n",
       "    </tr>\n",
       "    <tr>\n",
       "      <th>3</th>\n",
       "      <td>Egmont Tornberg</td>\n",
       "      <td>https://kulturpersoner.uppsalakyrkogardar.se/egmont-tornberg</td>\n",
       "    </tr>\n",
       "  </tbody>\n",
       "</table>\n",
       "</div>"
      ],
      "text/plain": [
       "                  kulturgravname  \\\n",
       "0  Digitala kyrkogårdsvandringar   \n",
       "1                             SV   \n",
       "2                     Henri Osti   \n",
       "3                Egmont Tornberg   \n",
       "\n",
       "                                                             url  \n",
       "0   https://kulturpersoner.uppsalakyrkogardar.se/digitalvandring  \n",
       "1  https://kulturpersoner.uppsalakyrkogardar.se/#weglot_switcher  \n",
       "2        https://kulturpersoner.uppsalakyrkogardar.se/henri-osti  \n",
       "3   https://kulturpersoner.uppsalakyrkogardar.se/egmont-tornberg  "
      ]
     },
     "execution_count": 15,
     "metadata": {},
     "output_type": "execute_result"
    }
   ],
   "source": [
    "Kulturgravaronly[\"url\"] = \"https://kulturpersoner.uppsalakyrkogardar.se/\" + Kulturgravaronly[\"href\"] \n",
    "pd.set_option('column_space', 20)\n",
    "pd.set_option('max_colwidth', 300)\n",
    "Kulturgravaronly = Kulturgravaronly.reset_index(drop=True)  \n",
    "\n",
    "Kulturgravaronly[[\"kulturgravname\",\"url\"]]"
   ]
  },
  {
   "cell_type": "code",
   "execution_count": 16,
   "metadata": {},
   "outputs": [
    {
     "name": "stdout",
     "output_type": "stream",
     "text": [
      "Ended:  2023-02-16 10:00:37.553541\n",
      "Time elapsed (hh:mm:ss.ms) 0:00:07.656590\n"
     ]
    }
   ],
   "source": [
    "end = datetime.now()\n",
    "print(\"Ended: \", end)\n",
    "print('Time elapsed (hh:mm:ss.ms) {}'.format(datetime.now() - start_time))"
   ]
  }
 ],
 "metadata": {
  "kernelspec": {
   "display_name": "Python 3",
   "language": "python",
   "name": "python3"
  },
  "language_info": {
   "codemirror_mode": {
    "name": "ipython",
    "version": 3
   },
   "file_extension": ".py",
   "mimetype": "text/x-python",
   "name": "python",
   "nbconvert_exporter": "python",
   "pygments_lexer": "ipython3",
   "version": "3.9.13"
  }
 },
 "nbformat": 4,
 "nbformat_minor": 4
}
